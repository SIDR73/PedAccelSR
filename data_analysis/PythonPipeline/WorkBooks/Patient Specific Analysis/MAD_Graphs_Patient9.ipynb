{
 "cells": [
  {
   "cell_type": "markdown",
   "metadata": {},
   "source": [
    "MAD Graphs for Patient 9"
   ]
  },
  {
   "cell_type": "code",
   "execution_count": 3,
   "metadata": {},
   "outputs": [],
   "source": [
    "# Import Modules\n",
    "import sys\n",
    "sys.path.insert(0, r'C:\\Users\\sidha\\OneDrive\\Sid Stuff\\PROJECTS\\iMEDS Design Team\\Data Analysis\\PedAccel\\data_analysis\\PythonPipeline\\Modules')\n",
    "import pandas as pd\n",
    "import numpy as np\n",
    "import os\n",
    "from matplotlib import pyplot as plt\n",
    "import matplotlib.lines as mlines\n",
    "from scipy.io import loadmat\n",
    "import Actigraph_Metrics"
   ]
  },
  {
   "cell_type": "code",
   "execution_count": 4,
   "metadata": {},
   "outputs": [],
   "source": [
    "# Load Data\n",
    "os.chdir(r'C:\\Users\\sidha\\OneDrive\\Sid Stuff\\PROJECTS\\iMEDS Design Team\\Data Analysis\\PedAccel\\data_analysis\\PythonPipeline\\PatientData\\Patient9')\n",
    "\n",
    "filename = 'Patient9_5MIN_SW_AllSBS.mat'\n",
    "x_mag = (loadmat(filename)[\"x_mag\"])\n",
    "SBS = loadmat(filename)[\"sbs\"]"
   ]
  },
  {
   "cell_type": "code",
   "execution_count": 5,
   "metadata": {},
   "outputs": [],
   "source": [
    "# Calculate MAD\n",
    "sbs_list = []\n",
    "for i in range(x_mag.shape[0]):\n",
    "    signal = Actigraph_Metrics.VecMag_MAD(x_mag[i,:],100)"
   ]
  },
  {
   "cell_type": "code",
   "execution_count": null,
   "metadata": {},
   "outputs": [],
   "source": [
    "# Print Graph per SBS\n",
    "\n",
    "for i in sbs_list:\n",
    "    "
   ]
  }
 ],
 "metadata": {
  "kernelspec": {
   "display_name": "Python 3",
   "language": "python",
   "name": "python3"
  },
  "language_info": {
   "codemirror_mode": {
    "name": "ipython",
    "version": 3
   },
   "file_extension": ".py",
   "mimetype": "text/x-python",
   "name": "python",
   "nbconvert_exporter": "python",
   "pygments_lexer": "ipython3",
   "version": "3.12.1"
  }
 },
 "nbformat": 4,
 "nbformat_minor": 2
}
