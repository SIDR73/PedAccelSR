{
 "cells": [
  {
   "attachments": {},
   "cell_type": "markdown",
   "metadata": {},
   "source": [
    "CCDA SBS Extraction Code"
   ]
  },
  {
   "cell_type": "code",
   "execution_count": 20,
   "metadata": {},
   "outputs": [],
   "source": [
    "# Import Modules\n",
    "import pandas as pd\n",
    "import numpy as np\n",
    "from openpyxl import load_workbook\n",
    "from openpyxl import Workbook\n",
    "import os\n",
    "os.chdir(r'S:\\Sedation_monitoring')"
   ]
  },
  {
   "cell_type": "code",
   "execution_count": 7,
   "metadata": {},
   "outputs": [],
   "source": [
    "# Open Workbook\n",
    "\n",
    "# Specify the path to the Excel file\n",
    "file_path = 'CCDA_6771_Extract_03042024.xlsx'\n",
    "\n",
    "# Load the Excel workbook\n",
    "workbook = load_workbook(file_path)\n",
    "\n",
    "# worksheet = workbook['Sheet1']  # Replace 'Sheet1' with the actual sheet name\n",
    "worksheet = workbook['ABCDEF Bundle']\n",
    "\n",
    "# Now you can access data from the worksheet\n",
    "# For example, to get the value of cell A1:\n",
    "# cell_value = worksheet['A1'].value"
   ]
  },
  {
   "cell_type": "code",
   "execution_count": 23,
   "metadata": {},
   "outputs": [
    {
     "name": "stdout",
     "output_type": "stream",
     "text": [
      "[['2023-11-24 08:26:00', '+2 Agitated'], ['2023-11-24 13:40:00', '+2 Agitated'], ['2023-11-25 05:10:00', '+2 Agitated'], ['2023-11-24 20:00:00', '-1 Responsive to gentle touch or voice'], ['2023-11-25 07:00:00', '-1 Responsive to gentle touch or voice'], ['2023-11-25 20:00:00', '-1 Responsive to gentle touch or voice'], ['2023-11-25 22:00:00', '-1 Responsive to gentle touch or voice'], ['2023-11-25 23:00:00', '-1 Responsive to gentle touch or voice'], ['2023-11-26 01:00:00', '-1 Responsive to gentle touch or voice'], ['2023-11-26 02:00:00', '-1 Responsive to gentle touch or voice'], ['2023-11-26 03:00:00', '-1 Responsive to gentle touch or voice'], ['2023-11-26 04:00:00', '-1 Responsive to gentle touch or voice'], ['2023-11-26 05:00:00', '-1 Responsive to gentle touch or voice'], ['2023-11-26 06:00:00', '-1 Responsive to gentle touch or voice'], ['2023-11-26 20:00:00', '-1 Responsive to gentle touch or voice'], ['2023-11-26 22:00:00', '-1 Responsive to gentle touch or voice'], ['2023-11-27 00:00:00', '-1 Responsive to gentle touch or voice'], ['2023-11-27 01:00:00', '-1 Responsive to gentle touch or voice'], ['2023-11-27 02:00:00', '-1 Responsive to gentle touch or voice'], ['2023-11-27 04:00:00', '-1 Responsive to gentle touch or voice'], ['2023-11-27 06:00:00', '-1 Responsive to gentle touch or voice'], ['2023-11-27 08:00:00', '-1 Responsive to gentle touch or voice'], ['2023-11-27 12:00:00', '-1 Responsive to gentle touch or voice'], ['2023-11-27 16:00:00', '-1 Responsive to gentle touch or voice'], ['2023-11-27 20:00:00', '-1 Responsive to gentle touch or voice'], ['2023-11-28 00:00:00', '-1 Responsive to gentle touch or voice'], ['2023-11-28 08:00:00', '-1 Responsive to gentle touch or voice'], ['2023-11-28 12:00:00', '-1 Responsive to gentle touch or voice'], ['2023-11-28 20:00:00', '-1 Responsive to gentle touch or voice'], ['2023-11-29 04:00:00', '-1 Responsive to gentle touch or voice'], ['2023-11-29 08:00:00', '-1 Responsive to gentle touch or voice'], ['2023-11-29 16:00:00', '-1 Responsive to gentle touch or voice'], ['2023-11-24 08:00:00', '0 Awake and Able to calm'], ['2023-11-24 12:00:00', '0 Awake and Able to calm'], ['2023-11-24 16:00:00', '0 Awake and Able to calm'], ['2023-11-25 00:00:00', '0 Awake and Able to calm'], ['2023-11-25 04:00:00', '0 Awake and Able to calm'], ['2023-11-29 20:00:00', '0 Awake and Able to calm'], ['2023-11-30 00:00:00', '0 Awake and Able to calm'], ['2023-11-30 08:00:00', '0 Awake and Able to calm'], ['2023-11-30 20:00:00', '0 Awake and Able to calm']]\n"
     ]
    }
   ],
   "source": [
    "# Access SBS Scores for given MRN\n",
    "\n",
    "# Input Patient MRN\n",
    "patient_mrn = 'JH07596734'\n",
    "\n",
    "# Make Blank 2D Array\n",
    "sbs_scores = []\n",
    "\n",
    "for cell_c, cell_i, cell_k in zip(worksheet['C'][1:], worksheet['I'][1:], worksheet['K'][1:]):\n",
    "    # Access the value of the cells in columns C and I\n",
    "    value_c = cell_c.value\n",
    "    value_i = cell_i.value\n",
    "    value_k = cell_k.value\n",
    "    \n",
    "    # Check if the value in column C matches the desired value\n",
    "    if value_c == patient_mrn:\n",
    "        # Access the corresponding value in column I at the same row\n",
    "        # Do something with the value in column I\n",
    "        if value_i[0] == '0' or value_i[1] in ['1', '2', '3']:\n",
    "            time_object = value_k\n",
    "            excel_dt = time_object.strftime('%Y-%m-%d %H:%M:%S')\n",
    "            sbs_scores.append([excel_dt, value_i])\n",
    "            \n",
    "print(sbs_scores)"
   ]
  },
  {
   "cell_type": "code",
   "execution_count": 26,
   "metadata": {},
   "outputs": [],
   "source": [
    "# Save SBS Scores to an Excel File\n",
    "newscores = Workbook()\n",
    "newscores_worksheet = newscores.active\n",
    "\n",
    "# Populate the worksheet with data from sbs_scores\n",
    "for row_index, row_data in enumerate(sbs_scores, start=1):\n",
    "    for col_index, cell_value in enumerate(row_data, start=1):\n",
    "        newscores_worksheet.cell(row=row_index, column=col_index, value=cell_value)\n",
    "\n",
    "# Save the workbook\n",
    "newscores.save(r\"S:\\Sedation_monitoring\\sbs_scores_patient_x.xlsx\")\n"
   ]
  },
  {
   "cell_type": "code",
   "execution_count": null,
   "metadata": {},
   "outputs": [],
   "source": [
    "# Once you're done working with the workbook, you can close it\n",
    "workbook.close()"
   ]
  }
 ],
 "metadata": {
  "kernelspec": {
   "display_name": "Python 3",
   "language": "python",
   "name": "python3"
  },
  "language_info": {
   "codemirror_mode": {
    "name": "ipython",
    "version": 3
   },
   "file_extension": ".py",
   "mimetype": "text/x-python",
   "name": "python",
   "nbconvert_exporter": "python",
   "pygments_lexer": "ipython3",
   "version": "3.11.8"
  },
  "orig_nbformat": 4,
  "vscode": {
   "interpreter": {
    "hash": "95dd6719c943d2fbd5bfbd17b22b5adfdc42aac1f7fc4fd4c3162208ddefbc92"
   }
  }
 },
 "nbformat": 4,
 "nbformat_minor": 2
}
