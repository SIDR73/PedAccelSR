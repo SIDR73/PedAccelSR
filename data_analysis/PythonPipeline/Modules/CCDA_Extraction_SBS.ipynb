{
 "cells": [
  {
   "attachments": {},
   "cell_type": "markdown",
   "metadata": {},
   "source": [
    "CCDA SBS Extraction Code"
   ]
  },
  {
   "cell_type": "code",
   "execution_count": 73,
   "metadata": {},
   "outputs": [],
   "source": [
    "# Import Modules\n",
    "import pandas as pd\n",
    "import numpy as np\n",
    "from openpyxl import load_workbook\n",
    "from openpyxl import Workbook\n",
    "from openpyxl.styles import Font\n",
    "import os\n",
    "import re\n",
    "os.chdir(r'S:\\Sedation_monitoring')"
   ]
  },
  {
   "cell_type": "code",
   "execution_count": 74,
   "metadata": {},
   "outputs": [],
   "source": [
    "# Open Workbook\n",
    "\n",
    "# Specify the path to the Excel file\n",
    "file_path = 'CCDA_6771_Extract_03042024.xlsx'\n",
    "\n",
    "# Load the Excel workbook\n",
    "workbook = load_workbook(file_path)\n",
    "\n",
    "# worksheet = workbook['Sheet1']  # Replace 'Sheet1' with the actual sheet name\n",
    "worksheet = workbook['ABCDEF Bundle']\n",
    "\n",
    "# Now you can access data from the worksheet\n",
    "# For example, to get the value of cell A1:\n",
    "# cell_value = worksheet['A1'].value"
   ]
  },
  {
   "cell_type": "code",
   "execution_count": 75,
   "metadata": {},
   "outputs": [
    {
     "name": "stdout",
     "output_type": "stream",
     "text": [
      "[['2024-02-07 18:08:00', '+1'], ['2024-02-07 22:02:00', '+1'], ['2024-02-08 07:07:00', '+1'], ['2024-02-08 07:09:00', '+1'], ['2024-02-08 07:10:00', '+1'], ['2024-02-08 08:15:00', '+1'], ['2024-02-08 09:01:00', '+1'], ['2024-02-08 09:22:00', '+1'], ['2024-02-08 09:58:00', '+1'], ['2024-02-08 10:52:00', '+1'], ['2024-02-08 10:53:00', '+1'], ['2024-02-08 13:01:00', '+1'], ['2024-02-08 14:25:00', '+1'], ['2024-02-08 14:52:00', '+1'], ['2024-02-08 17:45:00', '+1'], ['2024-02-08 17:50:00', '+1'], ['2024-02-08 18:29:00', '+1'], ['2024-02-08 19:07:00', '+1'], ['2024-02-09 04:04:00', '+1'], ['2024-02-09 05:27:00', '+1'], ['2024-02-09 05:28:00', '+1'], ['2024-02-09 08:06:00', '+1'], ['2024-02-13 19:16:00', '+1'], ['2024-02-13 19:30:00', '+1'], ['2024-02-14 19:48:00', '+1'], ['2024-02-14 19:54:00', '+1'], ['2024-02-14 20:01:00', '+1'], ['2024-02-14 22:40:00', '+1'], ['2024-02-15 03:40:00', '+1'], ['2024-02-07 22:47:00', '+2'], ['2024-02-07 23:13:00', '+2'], ['2024-02-07 23:45:00', '+2'], ['2024-02-08 01:14:00', '+2'], ['2024-02-08 01:20:00', '+2'], ['2024-02-08 02:00:00', '+2'], ['2024-02-08 02:14:00', '+2'], ['2024-02-08 02:15:00', '+2'], ['2024-02-08 03:40:00', '+2'], ['2024-02-08 04:00:00', '+2'], ['2024-02-08 04:50:00', '+2'], ['2024-02-08 05:54:00', '+2'], ['2024-02-08 05:56:00', '+2'], ['2024-02-08 06:10:00', '+2'], ['2024-02-08 09:16:00', '+2'], ['2024-02-08 15:52:00', '+2'], ['2024-02-08 20:00:00', '+2'], ['2024-02-08 20:01:00', '+2'], ['2024-02-08 22:22:00', '+2'], ['2024-02-09 01:32:00', '+2'], ['2024-02-14 20:10:00', '+2'], ['2024-02-14 20:51:00', '+2'], ['2024-02-14 20:55:00', '+2'], ['2024-02-15 01:30:00', '+2'], ['2024-02-15 01:40:00', '+2'], ['2024-02-15 01:45:00', '+2'], ['2024-02-15 03:45:00', '+2'], ['2024-02-07 20:00:00', '-1'], ['2024-02-08 00:00:00', '-1'], ['2024-02-08 12:00:00', '-1'], ['2024-02-08 14:00:00', '-1'], ['2024-02-11 20:00:00', '-1'], ['2024-02-11 21:30:00', '-1'], ['2024-02-13 12:00:00', '-1'], ['2024-02-13 16:00:00', '-1'], ['2024-02-13 20:00:00', '-1'], ['2024-02-14 00:00:00', '-1'], ['2024-02-14 04:00:00', '-1'], ['2024-02-14 11:54:00', '-1'], ['2024-02-14 12:00:00', '-1'], ['2024-02-14 16:00:00', '-1'], ['2024-02-14 21:20:00', '-1'], ['2024-02-14 23:00:00', '-1'], ['2024-02-15 00:00:00', '-1'], ['2024-02-15 02:00:00', '-1'], ['2024-02-15 04:00:00', '-1'], ['2024-02-15 08:00:00', '-1'], ['2024-02-15 12:00:00', '-1'], ['2024-02-09 00:00:00', '-2'], ['2024-02-09 04:00:00', '-2'], ['2024-02-11 20:26:00', '-2'], ['2024-02-14 08:00:00', '-2'], ['2024-02-09 04:10:00', '-3'], ['2024-02-10 07:55:00', '-3'], ['2024-02-10 08:00:00', '-3'], ['2024-02-10 12:00:00', '-3'], ['2024-02-10 16:00:00', '-3'], ['2024-02-10 20:00:00', '-3'], ['2024-02-11 00:00:00', '-3'], ['2024-02-11 04:00:00', '-3'], ['2024-02-12 08:00:00', '-3'], ['2024-02-12 12:00:00', '-3'], ['2024-02-12 16:00:00', '-3'], ['2024-02-12 20:00:00', '-3'], ['2024-02-13 00:00:00', '-3'], ['2024-02-13 01:00:00', '-3'], ['2024-02-13 04:00:00', '-3'], ['2024-02-09 14:15:00', '0'], ['2024-02-13 08:00:00', '0'], ['2024-02-14 13:41:00', '0'], ['2024-02-14 14:00:00', '0'], ['2024-02-14 14:25:00', '0'], ['2024-02-14 15:44:00', '0'], ['2024-02-14 16:12:00', '0'], ['2024-02-14 18:14:00', '0'], ['2024-02-15 16:00:00', '0'], ['2024-02-17 20:00:00', '0'], ['2024-02-18 00:00:00', '0'], ['2024-02-18 04:00:00', '0']]\n"
     ]
    }
   ],
   "source": [
    "# Access SBS Scores for given MRN\n",
    "\n",
    "# Input Patient MRN\n",
    "patient_mrn = 'JH28997709'\n",
    "\n",
    "# Make Blank 2D Array\n",
    "sbs_scores = []\n",
    "\n",
    "for cell_c, cell_i, cell_k in zip(worksheet['C'][1:], worksheet['I'][1:], worksheet['K'][1:]):\n",
    "    # Access the value of the cells in columns C and I\n",
    "    value_c = cell_c.value\n",
    "    value_i = cell_i.value\n",
    "    value_k = cell_k.value\n",
    "    \n",
    "    # Check if the value in column C matches the desired value\n",
    "    if value_c == patient_mrn:\n",
    "        # Access the corresponding value in column I at the same row\n",
    "        # Do something with the value in column I\n",
    "        if value_i[0] == '0' or value_i[1] in ['1', '2', '3']:\n",
    "            time_object = value_k\n",
    "            excel_dt = time_object.strftime('%Y-%m-%d %H:%M:%S')\n",
    "\n",
    "            cleaned_value_i = re.sub(r'[^\\d+-]', '', value_i)\n",
    "            sbs_scores.append([excel_dt, cleaned_value_i])\n",
    "            \n",
    "print(sbs_scores)"
   ]
  },
  {
   "cell_type": "code",
   "execution_count": 76,
   "metadata": {},
   "outputs": [],
   "source": [
    "sbs_scores.sort(key=lambda x: x[0])\n",
    "\n",
    "# Create a new workbook and select the active worksheet\n",
    "newscores = Workbook()\n",
    "newscores_worksheet = newscores.active\n",
    "\n",
    "# Add titles for Time_uniform and SBS in the first row and make them bold\n",
    "newscores_worksheet['A1'] = \"Time_uniform\"\n",
    "newscores_worksheet['A1'].font = Font(bold=True)\n",
    "\n",
    "newscores_worksheet['B1'] = \"SBS\"\n",
    "newscores_worksheet['B1'].font = Font(bold=True)\n",
    "\n",
    "# Populate the worksheet with data from sbs_scores\n",
    "for row_index, row_data in enumerate(sbs_scores, start=2):  # Starting from the second row after titles\n",
    "    for col_index, cell_value in enumerate(row_data, start=1):\n",
    "        newscores_worksheet.cell(row=row_index, column=col_index, value=cell_value)\n",
    "\n",
    "# Save the workbook\n",
    "newscores.save(r\"S:\\Sedation_monitoring\\_Patient15_SBS_Scores.xlsx\")\n"
   ]
  },
  {
   "cell_type": "code",
   "execution_count": 77,
   "metadata": {},
   "outputs": [],
   "source": [
    "# Once you're done working with the workbook, you can close it\n",
    "workbook.close()"
   ]
  }
 ],
 "metadata": {
  "kernelspec": {
   "display_name": "Python 3",
   "language": "python",
   "name": "python3"
  },
  "language_info": {
   "codemirror_mode": {
    "name": "ipython",
    "version": 3
   },
   "file_extension": ".py",
   "mimetype": "text/x-python",
   "name": "python",
   "nbconvert_exporter": "python",
   "pygments_lexer": "ipython3",
   "version": "3.11.8"
  },
  "orig_nbformat": 4,
  "vscode": {
   "interpreter": {
    "hash": "95dd6719c943d2fbd5bfbd17b22b5adfdc42aac1f7fc4fd4c3162208ddefbc92"
   }
  }
 },
 "nbformat": 4,
 "nbformat_minor": 2
}
