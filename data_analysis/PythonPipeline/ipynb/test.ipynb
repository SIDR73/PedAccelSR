{
 "cells": [
  {
   "cell_type": "code",
   "execution_count": null,
   "metadata": {},
   "outputs": [
    {
     "ename": "",
     "evalue": "",
     "output_type": "error",
     "traceback": [
      "\u001b[1;31mRunning cells with '/usr/bin/python3' requires the ipykernel package.\n",
      "\u001b[1;31mRun the following command to install 'ipykernel' into the Python environment. \n",
      "\u001b[1;31mCommand: '/usr/bin/python3 -m pip install ipykernel -U --user --force-reinstall'"
     ]
    }
   ],
   "source": [
    "# imports\n",
    "import numpy as np\n",
    "import os\n",
    "\n",
    "from matplotlib import pyplot as plt\n",
    "from scipy.io import loadmat"
   ]
  },
  {
   "cell_type": "markdown",
   "metadata": {},
   "source": [
    "TODOS\n",
    "- get data file\n",
    "- subsample time series\n",
    "- fft and bin in frequency domain\n",
    "- plotting functions"
   ]
  },
  {
   "cell_type": "code",
   "execution_count": null,
   "metadata": {},
   "outputs": [],
   "source": [
    "data_dir = '../PatientData/Patient9'\n",
    "filename = 'pt9_win5_5.mat'\n",
    "\n",
    "fp = os.path.join(data_dir, filename)\n",
    "data = loadmat(fp)"
   ]
  },
  {
   "cell_type": "code",
   "execution_count": null,
   "metadata": {},
   "outputs": [],
   "source": [
    "total_signal = data[\"x_mag\"]\n",
    "#Use a specifc window from the signal array\n",
    "signal = total_signal[0] #Change the index to generate different FFTs\n",
    "sbs = data[\"sbs\"]"
   ]
  },
  {
   "cell_type": "code",
   "execution_count": null,
   "metadata": {},
   "outputs": [],
   "source": [
    "total_signal = data[\"x_mag\"]\n",
    "#Use a specifc window from the signal array\n",
    "signal = total_signal[0] #Change the index to generate different FFTs\n",
    "SBS = data[\"sbs\"]\n",
    "time = General_Functions.generate_time_array(signal, sr=100)\n",
    "\n",
    "#Generate FFT Data\n",
    "freqData, freqBins = Frequency_Domain.FFTData(signal,100)\n",
    "#Plot FFT Data\n",
    "Frequency_Domain.FFTPlot(freqData,freqBins, 100, lower_freq=.1, upper_freq=20, lower_cutoff=.3, upper_cutoff=100000,title='FFT')"
   ]
  },
  {
   "cell_type": "code",
   "execution_count": null,
   "metadata": {},
   "outputs": [],
   "source": [
    "#scipy comb filter\n",
    "Frequency_Domain.scipy_comb_filter(signal)\n",
    "\n",
    "#Average out harmonics every f0Hz in frequency domain\n",
    "#if f0 is not a frequency bin, code will give run time error\n",
    "freqData, freqBins = Frequency_Domain.average_out_harmonics(signal,f0=1,fmax=20)\n",
    "#Inverse FFT after averaging out harmonics\n",
    "itx = Frequency_Domain.inverse_FFT(freqData)\n",
    "plt.scatter(time, itx)\n",
    "plt.title('IFFT after average out harmonics in freq domain')\n",
    "plt.show()\n",
    "\n",
    "#Average out outliers in frequency domain\n",
    "freqData,freqBins = Frequency_Domain.remove_outliers_freqDomain(signal,wlen=5)\n",
    "#Inverse FFT on averaged outliers\n",
    "itx = Frequency_Domain.inverse_FFT(freqData)\n",
    "plt.scatter(time, itx)\n",
    "plt.title('IFFT after removed outliers in freq domain')\n",
    "plt.show()"
   ]
  }
 ],
 "metadata": {
  "kernelspec": {
   "display_name": "Python 3",
   "language": "python",
   "name": "python3"
  },
  "language_info": {
   "name": "python",
   "version": "3.9.6"
  },
  "orig_nbformat": 4
 },
 "nbformat": 4,
 "nbformat_minor": 2
}
