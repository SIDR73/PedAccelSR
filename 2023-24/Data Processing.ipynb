{
 "cells": [
  {
   "cell_type": "markdown",
   "id": "a340362b",
   "metadata": {},
   "source": [
    "## Import Packages"
   ]
  },
  {
   "cell_type": "code",
   "execution_count": null,
   "id": "8c7b9527",
   "metadata": {},
   "outputs": [],
   "source": [
    "import pandas as pd\n",
    "import numpy as np\n",
    "import matplotlib.pyplot as plt\n",
    "import scipy.optimize as opt\n",
    "import math\n",
    "\n",
    "%matplotlib inline"
   ]
  },
  {
   "cell_type": "markdown",
   "id": "d50efc36",
   "metadata": {},
   "source": [
    "## Load Data and add Time Column"
   ]
  },
  {
   "cell_type": "code",
   "execution_count": null,
   "id": "4fbff3ef",
   "metadata": {},
   "outputs": [],
   "source": [
    "myData = pd.read_csv(\"Data/Design Paper Data/AnkleWrist/Wrist190Hz.csv\")\n",
    "f = 90 #Hz\n",
    "\n",
    "timeArray1 = []\n",
    "lengthData = myData[\"Accelerometer Y\"]\n",
    "N = len(lengthData)\n",
    "print(N)\n",
    "for i in range(1,N+1): \n",
    "    timeArray1.append(i*(1/f))\n",
    "len(timeArray1)\n",
    "myData['Time(s)1'] = timeArray1\n",
    "print(len(timeArray1))\n",
    "t = timeArray1[N-1]\n",
    "print(t)\n",
    "myData\n"
   ]
  },
  {
   "cell_type": "markdown",
   "id": "cb4c6cd9",
   "metadata": {},
   "source": [
    "## Euclidean Norm minus-One\n",
    "\n",
    "https://www.ncbi.nlm.nih.gov/pmc/articles/PMC6874221/"
   ]
  },
  {
   "cell_type": "code",
   "execution_count": null,
   "id": "9b39e8a5",
   "metadata": {},
   "outputs": [],
   "source": [
    "raw = []\n",
    "y = (((myData[\"Accelerometer X\"])**2  +  (myData[\"Accelerometer Y\"])**2  + (myData[\"Accelerometer Z\"])**2))\n",
    "ydata1 = np.sqrt(y)-1\n",
    "raw = ydata1"
   ]
  },
  {
   "cell_type": "markdown",
   "id": "9f3750a5",
   "metadata": {},
   "source": [
    "## Vector Magnitude Count(VMC) aka Mean Amplitude Deviation\n",
    "https://www.ncbi.nlm.nih.gov/pmc/articles/PMC4527117/"
   ]
  },
  {
   "cell_type": "code",
   "execution_count": 1,
   "id": "94b693c8",
   "metadata": {},
   "outputs": [
    {
     "ename": "SyntaxError",
     "evalue": "invalid syntax (1883904076.py, line 1)",
     "output_type": "error",
     "traceback": [
      "\u001b[1;36m  Input \u001b[1;32mIn [1]\u001b[1;36m\u001b[0m\n\u001b[1;33m    EpochLength =\u001b[0m\n\u001b[1;37m                  ^\u001b[0m\n\u001b[1;31mSyntaxError\u001b[0m\u001b[1;31m:\u001b[0m invalid syntax\n"
     ]
    }
   ],
   "source": [
    "EpochLength =  \n",
    "MAD = 0\n",
    "for i in range(0, EpochLength): \n",
    "    avg = np.mean(y)\n",
    "    MADs = MADs + (y[i]-avg)\n",
    "MADFinal = Mads/EpochLength"
   ]
  },
  {
   "cell_type": "markdown",
   "id": "79d6fbcb",
   "metadata": {},
   "source": [
    "## Unnormalized Activity Index\n",
    "\n",
    "https://www.ncbi.nlm.nih.gov/pmc/articles/PMC6874221/"
   ]
  },
  {
   "cell_type": "markdown",
   "id": "37f4305a",
   "metadata": {},
   "source": [
    "## Peak Finder Algorithm"
   ]
  }
 ],
 "metadata": {
  "kernelspec": {
   "display_name": "Python 3 (ipykernel)",
   "language": "python",
   "name": "python3"
  },
  "language_info": {
   "codemirror_mode": {
    "name": "ipython",
    "version": 3
   },
   "file_extension": ".py",
   "mimetype": "text/x-python",
   "name": "python",
   "nbconvert_exporter": "python",
   "pygments_lexer": "ipython3",
   "version": "3.9.12"
  }
 },
 "nbformat": 4,
 "nbformat_minor": 5
}
