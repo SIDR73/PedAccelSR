{
 "cells": [
  {
   "cell_type": "code",
   "execution_count": 1,
   "metadata": {},
   "outputs": [],
   "source": [
    "#import relevant packages\n",
    "import pandas as pd\n",
    "import numpy as np\n",
    "import matplotlib.pyplot as plt\n",
    "from pathlib import Path\n",
    "import pyarrow as pa\n",
    "import seaborn as sns\n",
    "from datetime import timedelta, datetime\n",
    "\n",
    "dir = Path(r\"S:\\Fackler_OSS_364376\\data\\IRB-364376-v1-230215\")"
   ]
  },
  {
   "cell_type": "code",
   "execution_count": 2,
   "metadata": {},
   "outputs": [],
   "source": [
    "# read ptsd records\n",
    "fp = dir.joinpath('EHR', 'ptsd_record.csv.gz')\n",
    "ptsd_record = pd.read_csv(fp, compression=\"gzip\")\n",
    "patients_ptsd = ptsd_record['pat_enc_csn_sid'].unique()\n",
    "\n",
    "# read flow table of patient EHR records\n",
    "fp = dir.joinpath('EHR', 'flowsheet.csv.gz')\n",
    "data = pd.read_csv(fp, compression=\"gzip\")\n",
    "data = data.drop(columns = ['meas_comment', 'meas_template_id'])\n",
    "# Note: pandas took 50 seconds to load the table. Consider porting to PySpark RDD"
   ]
  },
  {
   "cell_type": "code",
   "execution_count": 3,
   "metadata": {},
   "outputs": [],
   "source": [
    "fp = dir.joinpath('EHR', 'd_flo_measures.csv.gz')\n",
    "dict = pd.read_csv(fp, compression=\"gzip\")\n",
    "\n",
    "names = [\"State Behavioral Scale\",\n",
    "\"-3 Unresponsive\", \n",
    "\"-2 Responsive to noxious stimuli\", \n",
    "\"-1 Responsive to gentle touch or voice\",\n",
    "\"0 Awake and Able to calm\",\n",
    "\"+1 Restless and difficult to calm\",\n",
    "\"+2 Agitated\",\n",
    "\"State Behavioral Scale (SBS)\",\n",
    "\"Achieved Level of Sedation\",\n",
    "\"Sedation / Delirium\",\n",
    "\"Richmond Agitation - Sedation Scale\",\n",
    "\"Richmond agitation sedation scale\",\n",
    "\"Richmond Agitation Sedation Scale (RASS)\"]\n",
    "\n",
    "# dict[dict['disp_name'].isin(names)]\n"
   ]
  },
  {
   "cell_type": "code",
   "execution_count": 4,
   "metadata": {},
   "outputs": [
    {
     "name": "stdout",
     "output_type": "stream",
     "text": [
      "(25878, 5)\n",
      "581\n"
     ]
    },
    {
     "name": "stderr",
     "output_type": "stream",
     "text": [
      "C:\\Users\\swu82\\AppData\\Local\\Temp\\ipykernel_1032\\2226515026.py:9: SettingWithCopyWarning: \n",
      "A value is trying to be set on a copy of a slice from a DataFrame.\n",
      "Try using .loc[row_indexer,col_indexer] = value instead\n",
      "\n",
      "See the caveats in the documentation: https://pandas.pydata.org/pandas-docs/stable/user_guide/indexing.html#returning-a-view-versus-a-copy\n",
      "  sbs['SBS'] = sbs['meas_id'] - 304080019\n"
     ]
    }
   ],
   "source": [
    "# flow_meas_id for SBS and RASS\n",
    "fmid = [304080016, 304080017, 304080018, 304080019, 304080020, 304080021]\n",
    "\n",
    "sbs = data[data['meas_id'].isin(fmid)]\n",
    "print(sbs.shape)\n",
    "# 25878 entries\n",
    "\n",
    "# calculate sbs score from offset\n",
    "sbs['SBS'] = sbs['meas_id'] - 304080019\n",
    "sbs = sbs.drop(columns=['meas_value', 'meas_id'])\n",
    "sbs['recorded_time'] = pd.to_datetime(sbs['recorded_time'], format='%Y-%m-%d %H:%M:%S')\n",
    "sbs_indiv = sbs.groupby('pat_enc_csn_sid')\n",
    "\n",
    "# Identify patients with SBS and waveform data\n",
    "patients_ehr = list(sbs_indiv.groups.keys())\n",
    "\n",
    "patients = set(patients_ehr) & set(patients_ptsd)\n",
    "print(len(patients))"
   ]
  },
  {
   "attachments": {},
   "cell_type": "markdown",
   "metadata": {},
   "source": [
    "# Inclusion Exclusion criteria round 1\n",
    "- patients on ventilator\n",
    "        - contains MEDIBUSVITALS file (from Drager ventilator)\n",
    "        - overlapping ventilator time in (vent_dur)\n",
    "        - \n",
    "- patient on beta blocker\n",
    "- patients on neuromuscular blockers"
   ]
  },
  {
   "attachments": {},
   "cell_type": "markdown",
   "metadata": {},
   "source": [
    "### Mechanical ventilators"
   ]
  },
  {
   "attachments": {},
   "cell_type": "markdown",
   "metadata": {},
   "source": [
    "levels of ventilator support\n",
    "- 1: room air\n",
    "- 2: supplemental O2\n",
    "- 3: regular nasal cannula\n",
    "- 4: high-flow nasal cannula\n",
    "- 5: noninvasive positive pressure ventilation\n",
    "- 6: conventional mechanical ventilation\n",
    "- 7: high freq oscillation or jet ventilation "
   ]
  },
  {
   "cell_type": "code",
   "execution_count": 5,
   "metadata": {},
   "outputs": [],
   "source": [
    "def remove_vent(patients, verbose = True):\n",
    "    fp = dir.joinpath('EHR', 'vent_dur.csv.gz')\n",
    "    vent_record = pd.read_csv(fp, compression=\"gzip\")\n",
    "\n",
    "    mech_vent = [5, 6, 7]\n",
    "    vent_record = vent_record[vent_record['level'].isin(mech_vent)]\n",
    "\n",
    "    patient_on_vent = set(vent_record['pat_enc_csn_sid'])\n",
    "    filtered_patients = patients - patient_on_vent\n",
    "    if verbose:\n",
    "        print(f'{len(filtered_patients)} removed for mechanical ventilation \\n{len(patients)} patients in original list, {len(filtered_patients)} after filtering')\n",
    "\n",
    "    return filtered_patients"
   ]
  },
  {
   "cell_type": "code",
   "execution_count": 6,
   "metadata": {},
   "outputs": [
    {
     "name": "stdout",
     "output_type": "stream",
     "text": [
      "324 removed for mechanical ventilation \n",
      "581 patients in original list, 324 after filtering\n"
     ]
    }
   ],
   "source": [
    "p_no_vent = remove_vent(patients)"
   ]
  },
  {
   "attachments": {},
   "cell_type": "markdown",
   "metadata": {},
   "source": [
    "### Drug\n",
    "exclude neuromuscular and beta blockers"
   ]
  },
  {
   "attachments": {},
   "cell_type": "markdown",
   "metadata": {},
   "source": [
    "- medication dictionary: d_med\n",
    "- accm_med_admin\n",
    "- anes_dur"
   ]
  },
  {
   "cell_type": "code",
   "execution_count": 7,
   "metadata": {},
   "outputs": [],
   "source": [
    "# fp = dir.joinpath('EHR', 'med_admin.csv.gz')\n",
    "# med_admin = pd.read_csv(fp, compression=\"gzip\")\n",
    "# print(med_admin.keys())\n",
    "# print(med_admin['pharm_classname'].unique())"
   ]
  },
  {
   "cell_type": "code",
   "execution_count": 8,
   "metadata": {},
   "outputs": [],
   "source": [
    "def remove_drugs(patients, verbose = True):\n",
    "    fp = dir.joinpath('EHR', 'med_admin.csv.gz')\n",
    "    med_admin = pd.read_csv(fp, compression=\"gzip\")\n",
    "\n",
    "    excl_drugs = ['NEUROMUSCULAR BLOCKING AGENTS', 'BETA-ADRENERGIC AGENTS', 'ALPHA/BETA-ADRENERGIC BLOCKING AGENTS', 'BETA-ADRENERGIC BLOCKING AGENTS']\n",
    "\n",
    "    med_admin_filter = med_admin[med_admin['pharm_classname'].isin(excl_drugs)]\n",
    "    # med_admin_filter['pharm_classname'].unique()\n",
    "    patients_med = set(med_admin_filter['pat_enc_csn_sid'])\n",
    "\n",
    "    filtered_patients = patients - patients_med\n",
    "    if verbose:\n",
    "        print(f'{len(patients_med)} removed for drugs \\n{len(patients)} patients in original list, {len(filtered_patients)} after filtering')\n",
    "\n",
    "    return filtered_patients"
   ]
  },
  {
   "cell_type": "code",
   "execution_count": 9,
   "metadata": {},
   "outputs": [
    {
     "name": "stderr",
     "output_type": "stream",
     "text": [
      "C:\\Users\\swu82\\AppData\\Local\\Temp\\ipykernel_1032\\193545468.py:3: DtypeWarning: Columns (26,40) have mixed types. Specify dtype option on import or set low_memory=False.\n",
      "  med_admin = pd.read_csv(fp, compression=\"gzip\")\n"
     ]
    },
    {
     "name": "stdout",
     "output_type": "stream",
     "text": [
      "1200 removed for drugs \n",
      "581 patients in original list, 415 after filtering\n"
     ]
    }
   ],
   "source": [
    "p_no_drugs = remove_drugs(patients)"
   ]
  },
  {
   "cell_type": "code",
   "execution_count": 11,
   "metadata": {},
   "outputs": [
    {
     "name": "stdout",
     "output_type": "stream",
     "text": [
      "415\n"
     ]
    }
   ],
   "source": [
    "p_no_drugs = np.array(list(p_no_drugs))\n",
    "print(len(p_no_drugs))\n",
    "np.save('./DONOTPUSH/patients_wodrugs', p_no_drugs)"
   ]
  },
  {
   "attachments": {},
   "cell_type": "markdown",
   "metadata": {},
   "source": [
    "# Inclusion Exclusion 2"
   ]
  },
  {
   "attachments": {},
   "cell_type": "markdown",
   "metadata": {},
   "source": [
    "Committee meeting feedback: \n",
    "- Preserve ventilator patients since SBS designed for ventilated patients and this population most likely to have low SBS scores\n",
    "- Instead remove respiration rate from data since low discrimination power\n",
    "- Usually patients desaturate before crashing"
   ]
  }
 ],
 "metadata": {
  "kernelspec": {
   "display_name": "Python 3",
   "language": "python",
   "name": "python3"
  },
  "language_info": {
   "codemirror_mode": {
    "name": "ipython",
    "version": 3
   },
   "file_extension": ".py",
   "mimetype": "text/x-python",
   "name": "python",
   "nbconvert_exporter": "python",
   "pygments_lexer": "ipython3",
   "version": "3.10.13"
  },
  "vscode": {
   "interpreter": {
    "hash": "e8e2a76ebea27e33326fa683000b54f6df9e56ac080988cf229beb3360d17a16"
   }
  }
 },
 "nbformat": 4,
 "nbformat_minor": 4
}
