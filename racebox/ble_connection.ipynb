{
 "cells": [
  {
   "cell_type": "markdown",
   "id": "04e900f4-9870-4b72-86b2-bc6ddece7975",
   "metadata": {},
   "source": [
    "# Connect to Racebox Mini and read raw accelerometry trace"
   ]
  },
  {
   "cell_type": "markdown",
   "id": "27a2f09a-cac4-4bd7-b3b5-2c64db7cce33",
   "metadata": {},
   "source": [
    "### The Tech Stack\n",
    "\n",
    "BLE(bluetooth low energy) is a communication standard between computers and bluetooth devices. \n",
    "\n",
    "[Bleak](https://github.com/hbldh/bleak) is a platform-agnostic python package that connects to BLE devices from a computer. It also implements handy functions to read data"
   ]
  },
  {
   "cell_type": "markdown",
   "id": "f32a0715-3023-4e0a-a72f-29ed84b89b47",
   "metadata": {
    "tags": []
   },
   "source": [
    "### Scan for available devices"
   ]
  },
  {
   "cell_type": "code",
   "execution_count": 1,
   "id": "f05ee19c-465b-4911-ab13-1da8a60da596",
   "metadata": {},
   "outputs": [
    {
     "name": "stdout",
     "output_type": "stream",
     "text": [
      "70:7A:60:A5:AD:F1: None\n",
      "19:48:0D:F6:9F:6E: None\n",
      "04:3E:D6:11:16:3B: None\n",
      "20:3A:AB:0B:7B:FD: None\n",
      "88:C6:26:CF:4B:3B: None\n",
      "D4:4D:A4:2A:80:D5: Venus_D44DA42A80D5\n",
      "0A:C5:8C:68:E5:FF: None\n",
      "D4:AD:FC:52:F9:37: ihoment_H7141_F937\n",
      "16:10:E4:A0:62:3D: None\n",
      "4E:C6:04:7A:CA:6C: None\n",
      "A4:E5:7C:6C:3F:AA: ScentAir\n",
      "68:0E:22:EC:B7:4D: None\n",
      "3A:54:F3:43:26:B8: None\n",
      "71:A9:65:B5:58:B5: None\n",
      "6D:C7:FA:CA:E8:C6: None\n",
      "C9:CD:EB:7E:03:81: None\n",
      "F4:4D:57:51:28:B9: None\n",
      "E1:DE:52:46:5A:BF: None\n",
      "7B:4C:F5:61:24:E0: None\n",
      "72:F8:63:53:26:6B: None\n",
      "62:5A:39:08:E7:57: None\n",
      "1F:EB:64:0D:86:0F: None\n",
      "5A:F0:08:B7:C1:F9: None\n",
      "E0:1C:DB:30:66:E1: None\n",
      "F1:DD:03:00:93:05: None\n",
      "C1:9E:EB:FB:6F:19: None\n",
      "61:C0:90:91:AD:B5: None\n",
      "5A:5C:00:36:8C:00: None\n",
      "1F:2C:8E:AC:D3:B2: None\n",
      "6A:54:65:FF:4A:80: None\n",
      "D3:3F:F0:45:5A:75: RaceBox Mini 1221405970\n",
      "72:95:87:E8:12:9F: None\n",
      "53:C7:D5:91:BC:16: LE-Night\n",
      "FC:3B:FE:E3:4B:28: None\n",
      "2A:98:40:E0:73:4D: None\n",
      "4B:EC:C8:F6:8A:1D: None\n",
      "DB:6D:00:86:48:B0: None\n",
      "7E:EC:DD:AE:1F:65: None\n",
      "F2:BF:4A:03:20:19: None\n"
     ]
    }
   ],
   "source": [
    "import asyncio\n",
    "from bleak import BleakScanner\n",
    "\n",
    "async def main():\n",
    "    devices = await BleakScanner.discover()\n",
    "    for d in devices:\n",
    "        print(d)\n",
    "\n",
    "# for Python script\n",
    "# asyncio.run(main())\n",
    "\n",
    "# from within Jupyter\n",
    "# https://stackoverflow.com/questions/55409641/asyncio-run-cannot-be-called-from-a-running-event-loop-when-using-jupyter-no\n",
    "await main()"
   ]
  },
  {
   "cell_type": "markdown",
   "id": "25c87cd1-597b-4532-bfc4-8f428e108ca0",
   "metadata": {},
   "source": [
    "### Connect to RaceBox Mini"
   ]
  },
  {
   "cell_type": "code",
   "execution_count": 2,
   "id": "147870a3-5a57-4117-8ad9-e01757d24e49",
   "metadata": {
    "tags": []
   },
   "outputs": [
    {
     "name": "stdout",
     "output_type": "stream",
     "text": [
      "Services:\n",
      "00001800-0000-1000-8000-00805f9b34fb (Handle: 1): Generic Access Profile\n",
      "00001801-0000-1000-8000-00805f9b34fb (Handle: 10): Generic Attribute Profile\n",
      "6e400001-b5a3-f393-e0a9-e50e24dcca9e (Handle: 11): Nordic UART Service\n",
      "0000180a-0000-1000-8000-00805f9b34fb (Handle: 17): Device Information\n"
     ]
    },
    {
     "ename": "TimeoutError",
     "evalue": "",
     "output_type": "error",
     "traceback": [
      "\u001b[1;31m---------------------------------------------------------------------------\u001b[0m",
      "\u001b[1;31mCancelledError\u001b[0m                            Traceback (most recent call last)",
      "File \u001b[1;32m~\\anaconda3\\envs\\pic\\lib\\site-packages\\bleak\\backends\\winrt\\client.py:485\u001b[0m, in \u001b[0;36mBleakClientWinRT.disconnect\u001b[1;34m(self)\u001b[0m\n\u001b[0;32m    484\u001b[0m     \u001b[38;5;28;01masync\u001b[39;00m \u001b[38;5;28;01mwith\u001b[39;00m async_timeout\u001b[38;5;241m.\u001b[39mtimeout(\u001b[38;5;241m120\u001b[39m):\n\u001b[1;32m--> 485\u001b[0m         \u001b[38;5;28;01mawait\u001b[39;00m event\u001b[38;5;241m.\u001b[39mwait()\n\u001b[0;32m    486\u001b[0m \u001b[38;5;28;01mfinally\u001b[39;00m:\n",
      "File \u001b[1;32m~\\anaconda3\\envs\\pic\\lib\\asyncio\\locks.py:214\u001b[0m, in \u001b[0;36mEvent.wait\u001b[1;34m(self)\u001b[0m\n\u001b[0;32m    213\u001b[0m \u001b[38;5;28;01mtry\u001b[39;00m:\n\u001b[1;32m--> 214\u001b[0m     \u001b[38;5;28;01mawait\u001b[39;00m fut\n\u001b[0;32m    215\u001b[0m     \u001b[38;5;28;01mreturn\u001b[39;00m \u001b[38;5;28;01mTrue\u001b[39;00m\n",
      "\u001b[1;31mCancelledError\u001b[0m: ",
      "\nDuring handling of the above exception, another exception occurred:\n",
      "\u001b[1;31mTimeoutError\u001b[0m                              Traceback (most recent call last)",
      "Cell \u001b[1;32mIn[2], line 15\u001b[0m\n\u001b[0;32m     12\u001b[0m         \u001b[38;5;28;01mfor\u001b[39;00m service \u001b[38;5;129;01min\u001b[39;00m client\u001b[38;5;241m.\u001b[39mservices:\n\u001b[0;32m     13\u001b[0m             \u001b[38;5;28mprint\u001b[39m(service)\n\u001b[1;32m---> 15\u001b[0m \u001b[38;5;28;01mawait\u001b[39;00m main(ADDRESS)\n\u001b[0;32m     17\u001b[0m \u001b[38;5;66;03m# print list of available services\u001b[39;00m\n",
      "Cell \u001b[1;32mIn[2], line 10\u001b[0m, in \u001b[0;36mmain\u001b[1;34m(ble_address)\u001b[0m\n\u001b[0;32m      8\u001b[0m \u001b[38;5;28;01mif\u001b[39;00m \u001b[38;5;129;01mnot\u001b[39;00m device:\n\u001b[0;32m      9\u001b[0m     \u001b[38;5;28;01mraise\u001b[39;00m BleakError(\u001b[38;5;124mf\u001b[39m\u001b[38;5;124m\"\u001b[39m\u001b[38;5;124mA device with address \u001b[39m\u001b[38;5;132;01m{\u001b[39;00mble_address\u001b[38;5;132;01m}\u001b[39;00m\u001b[38;5;124m could not be found.\u001b[39m\u001b[38;5;124m\"\u001b[39m)\n\u001b[1;32m---> 10\u001b[0m \u001b[38;5;28;01masync\u001b[39;00m \u001b[38;5;28;01mwith\u001b[39;00m BleakClient(device) \u001b[38;5;28;01mas\u001b[39;00m client:\n\u001b[0;32m     11\u001b[0m     \u001b[38;5;28mprint\u001b[39m(\u001b[38;5;124m\"\u001b[39m\u001b[38;5;124mServices:\u001b[39m\u001b[38;5;124m\"\u001b[39m)\n\u001b[0;32m     12\u001b[0m     \u001b[38;5;28;01mfor\u001b[39;00m service \u001b[38;5;129;01min\u001b[39;00m client\u001b[38;5;241m.\u001b[39mservices:\n",
      "File \u001b[1;32m~\\anaconda3\\envs\\pic\\lib\\site-packages\\bleak\\__init__.py:437\u001b[0m, in \u001b[0;36mBleakClient.__aexit__\u001b[1;34m(self, exc_type, exc_val, exc_tb)\u001b[0m\n\u001b[0;32m    436\u001b[0m \u001b[38;5;28;01masync\u001b[39;00m \u001b[38;5;28;01mdef\u001b[39;00m \u001b[38;5;21m__aexit__\u001b[39m(\u001b[38;5;28mself\u001b[39m, exc_type, exc_val, exc_tb):\n\u001b[1;32m--> 437\u001b[0m     \u001b[38;5;28;01mawait\u001b[39;00m \u001b[38;5;28mself\u001b[39m\u001b[38;5;241m.\u001b[39mdisconnect()\n",
      "File \u001b[1;32m~\\anaconda3\\envs\\pic\\lib\\site-packages\\bleak\\__init__.py:480\u001b[0m, in \u001b[0;36mBleakClient.disconnect\u001b[1;34m(self)\u001b[0m\n\u001b[0;32m    473\u001b[0m \u001b[38;5;28;01masync\u001b[39;00m \u001b[38;5;28;01mdef\u001b[39;00m \u001b[38;5;21mdisconnect\u001b[39m(\u001b[38;5;28mself\u001b[39m) \u001b[38;5;241m-\u001b[39m\u001b[38;5;241m>\u001b[39m \u001b[38;5;28mbool\u001b[39m:\n\u001b[0;32m    474\u001b[0m \u001b[38;5;250m    \u001b[39m\u001b[38;5;124;03m\"\"\"Disconnect from the specified GATT server.\u001b[39;00m\n\u001b[0;32m    475\u001b[0m \n\u001b[0;32m    476\u001b[0m \u001b[38;5;124;03m    Returns:\u001b[39;00m\n\u001b[0;32m    477\u001b[0m \u001b[38;5;124;03m        Always returns ``True`` for backwards compatibility.\u001b[39;00m\n\u001b[0;32m    478\u001b[0m \n\u001b[0;32m    479\u001b[0m \u001b[38;5;124;03m    \"\"\"\u001b[39;00m\n\u001b[1;32m--> 480\u001b[0m     \u001b[38;5;28;01mreturn\u001b[39;00m \u001b[38;5;28;01mawait\u001b[39;00m \u001b[38;5;28mself\u001b[39m\u001b[38;5;241m.\u001b[39m_backend\u001b[38;5;241m.\u001b[39mdisconnect()\n",
      "File \u001b[1;32m~\\anaconda3\\envs\\pic\\lib\\site-packages\\bleak\\backends\\winrt\\client.py:484\u001b[0m, in \u001b[0;36mBleakClientWinRT.disconnect\u001b[1;34m(self)\u001b[0m\n\u001b[0;32m    481\u001b[0m     \u001b[38;5;28mself\u001b[39m\u001b[38;5;241m.\u001b[39m_requester\u001b[38;5;241m.\u001b[39mclose()\n\u001b[0;32m    482\u001b[0m     \u001b[38;5;66;03m# sometimes it can take over one minute before Windows decides\u001b[39;00m\n\u001b[0;32m    483\u001b[0m     \u001b[38;5;66;03m# to end the GATT session/disconnect the device\u001b[39;00m\n\u001b[1;32m--> 484\u001b[0m     \u001b[38;5;28;01masync\u001b[39;00m \u001b[38;5;28;01mwith\u001b[39;00m async_timeout\u001b[38;5;241m.\u001b[39mtimeout(\u001b[38;5;241m120\u001b[39m):\n\u001b[0;32m    485\u001b[0m         \u001b[38;5;28;01mawait\u001b[39;00m event\u001b[38;5;241m.\u001b[39mwait()\n\u001b[0;32m    486\u001b[0m \u001b[38;5;28;01mfinally\u001b[39;00m:\n",
      "File \u001b[1;32m~\\anaconda3\\envs\\pic\\lib\\site-packages\\async_timeout\\__init__.py:129\u001b[0m, in \u001b[0;36mTimeout.__aexit__\u001b[1;34m(self, exc_type, exc_val, exc_tb)\u001b[0m\n\u001b[0;32m    123\u001b[0m \u001b[38;5;28;01masync\u001b[39;00m \u001b[38;5;28;01mdef\u001b[39;00m \u001b[38;5;21m__aexit__\u001b[39m(\n\u001b[0;32m    124\u001b[0m     \u001b[38;5;28mself\u001b[39m,\n\u001b[0;32m    125\u001b[0m     exc_type: Optional[Type[\u001b[38;5;167;01mBaseException\u001b[39;00m]],\n\u001b[0;32m    126\u001b[0m     exc_val: Optional[\u001b[38;5;167;01mBaseException\u001b[39;00m],\n\u001b[0;32m    127\u001b[0m     exc_tb: Optional[TracebackType],\n\u001b[0;32m    128\u001b[0m ) \u001b[38;5;241m-\u001b[39m\u001b[38;5;241m>\u001b[39m Optional[\u001b[38;5;28mbool\u001b[39m]:\n\u001b[1;32m--> 129\u001b[0m     \u001b[38;5;28;43mself\u001b[39;49m\u001b[38;5;241;43m.\u001b[39;49m\u001b[43m_do_exit\u001b[49m\u001b[43m(\u001b[49m\u001b[43mexc_type\u001b[49m\u001b[43m)\u001b[49m\n\u001b[0;32m    130\u001b[0m     \u001b[38;5;28;01mreturn\u001b[39;00m \u001b[38;5;28;01mNone\u001b[39;00m\n",
      "File \u001b[1;32m~\\anaconda3\\envs\\pic\\lib\\site-packages\\async_timeout\\__init__.py:212\u001b[0m, in \u001b[0;36mTimeout._do_exit\u001b[1;34m(self, exc_type)\u001b[0m\n\u001b[0;32m    210\u001b[0m \u001b[38;5;28;01mif\u001b[39;00m exc_type \u001b[38;5;129;01mis\u001b[39;00m asyncio\u001b[38;5;241m.\u001b[39mCancelledError \u001b[38;5;129;01mand\u001b[39;00m \u001b[38;5;28mself\u001b[39m\u001b[38;5;241m.\u001b[39m_state \u001b[38;5;241m==\u001b[39m _State\u001b[38;5;241m.\u001b[39mTIMEOUT:\n\u001b[0;32m    211\u001b[0m     \u001b[38;5;28mself\u001b[39m\u001b[38;5;241m.\u001b[39m_timeout_handler \u001b[38;5;241m=\u001b[39m \u001b[38;5;28;01mNone\u001b[39;00m\n\u001b[1;32m--> 212\u001b[0m     \u001b[38;5;28;01mraise\u001b[39;00m asyncio\u001b[38;5;241m.\u001b[39mTimeoutError\n\u001b[0;32m    213\u001b[0m \u001b[38;5;66;03m# timeout has not expired\u001b[39;00m\n\u001b[0;32m    214\u001b[0m \u001b[38;5;28mself\u001b[39m\u001b[38;5;241m.\u001b[39m_state \u001b[38;5;241m=\u001b[39m _State\u001b[38;5;241m.\u001b[39mEXIT\n",
      "\u001b[1;31mTimeoutError\u001b[0m: "
     ]
    }
   ],
   "source": [
    "from bleak import BleakClient, BleakScanner\n",
    "from bleak.exc import BleakError\n",
    "\n",
    "ADDRESS = (\"D3:3F:F0:45:5A:75\")\n",
    "\n",
    "async def main(ble_address: str):\n",
    "    device = await BleakScanner.find_device_by_address(ble_address, timeout=20.0)\n",
    "    if not device:\n",
    "        raise BleakError(f\"A device with address {ble_address} could not be found.\")\n",
    "    async with BleakClient(device) as client:\n",
    "        print(\"Services:\")\n",
    "        for service in client.services:\n",
    "            print(service)\n",
    "            \n",
    "await main(ADDRESS)\n",
    "\n",
    "# print list of available services"
   ]
  },
  {
   "cell_type": "markdown",
   "id": "2cdfd610-f1f3-46e4-95ae-6be194d75a04",
   "metadata": {},
   "source": [
    "### Subscribe for messages"
   ]
  },
  {
   "cell_type": "code",
   "execution_count": null,
   "id": "9493f275-3359-4e65-87c0-c7eaed18521a",
   "metadata": {},
   "outputs": [],
   "source": [
    "import asyncio\n",
    "import sys\n",
    "from itertools import count, takewhile\n",
    "from typing import Iterator\n",
    "\n",
    "from bleak import BleakClient, BleakScanner\n",
    "from bleak.backends.characteristic import BleakGATTCharacteristic\n",
    "from bleak.backends.device import BLEDevice\n",
    "from bleak.backends.scanner import AdvertisementData\n",
    "\n",
    "# https://www.racebox.pro/products/racebox-mini/protocol-documentation?k=63eec19e3cd15f49780062e1\n",
    "UART_SERVICE_UUID = \"6E400001-B5A3-F393-E0A9-E50E24DCCA9E\"\n",
    "UART_RX_CHAR_UUID = \"6E400002-B5A3-F393-E0A9-E50E24DCCA9E\"\n",
    "UART_TX_CHAR_UUID = \"6E400003-B5A3-F393-E0A9-E50E24DCCA9E\""
   ]
  }
 ],
 "metadata": {
  "kernelspec": {
   "display_name": "Python 3 (ipykernel)",
   "language": "python",
   "name": "python3"
  },
  "language_info": {
   "codemirror_mode": {
    "name": "ipython",
    "version": 3
   },
   "file_extension": ".py",
   "mimetype": "text/x-python",
   "name": "python",
   "nbconvert_exporter": "python",
   "pygments_lexer": "ipython3",
   "version": "3.10.9"
  }
 },
 "nbformat": 4,
 "nbformat_minor": 5
}
